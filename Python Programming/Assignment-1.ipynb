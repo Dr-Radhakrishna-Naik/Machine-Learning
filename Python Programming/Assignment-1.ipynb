{
 "cells": [
  {
   "cell_type": "code",
   "execution_count": 11,
   "metadata": {},
   "outputs": [
    {
     "data": {
      "text/plain": [
       "['Rambabu', 45.78, 23, False, 'shambabu', 76.43, 23, True]"
      ]
     },
     "execution_count": 11,
     "metadata": {},
     "output_type": "execute_result"
    }
   ],
   "source": [
    "#1.\tConstruct 2 lists containing all the available data types  (integer, float, string, complex and Boolean) and do the following..\n",
    "#a.\tCreate another list by concatenating above 2 lists\n",
    "lst1=['Rambabu', 45.78, 23, False]\n",
    "lst2=['shambabu',76.43,23,True]\n",
    "lst1=lst1+lst2\n",
    "lst1\n"
   ]
  },
  {
   "cell_type": "raw",
   "metadata": {},
   "source": [
    "b.\tFind the frequency of each element in the concatenated list."
   ]
  },
  {
   "cell_type": "code",
   "execution_count": 15,
   "metadata": {},
   "outputs": [
    {
     "name": "stdout",
     "output_type": "stream",
     "text": [
      "1\n",
      "1\n",
      "2\n",
      "1\n",
      "1\n",
      "1\n",
      "2\n",
      "1\n"
     ]
    }
   ],
   "source": [
    "for i in lst1:\n",
    "    print(lst1.count(i))\n",
    "    \n",
    "    \n"
   ]
  },
  {
   "cell_type": "code",
   "execution_count": 21,
   "metadata": {},
   "outputs": [],
   "source": [
    "#c.\tPrint the list in reverse order.\n",
    "     lst1.reverse()"
   ]
  },
  {
   "cell_type": "code",
   "execution_count": 22,
   "metadata": {},
   "outputs": [
    {
     "name": "stdout",
     "output_type": "stream",
     "text": [
      "[True, 23, 76.43, 'shambabu', False, 23, 45.78, 'Rambabu']\n"
     ]
    }
   ],
   "source": [
    "print(lst1)"
   ]
  },
  {
   "cell_type": "raw",
   "metadata": {},
   "source": [
    "2.\tCreate 2 Sets containing integers (numbers from 1 to 10 in one set and 5 to 15 in other set)\n",
    "a.\tFind the common elements in above 2 Sets.\n",
    "b.\tFind the elements that are not common.\n",
    "c.\tRemove element 7 from both the Sets.\n"
   ]
  },
  {
   "cell_type": "code",
   "execution_count": 23,
   "metadata": {},
   "outputs": [
    {
     "name": "stdout",
     "output_type": "stream",
     "text": [
      "{5, 6, 7, 8, 9, 10}\n"
     ]
    }
   ],
   "source": [
    "#a.\tFind the common elements in above 2 Sets.\n",
    "s1={1,2,3,4,5,6,7,8,9,10}\n",
    "s2={5,6,7,8,9,10,11,12,13,14,15}\n",
    "z= s1.intersection(s2) \n",
    "print(z)"
   ]
  },
  {
   "cell_type": "code",
   "execution_count": 25,
   "metadata": {},
   "outputs": [
    {
     "name": "stdout",
     "output_type": "stream",
     "text": [
      "{1, 2, 3, 4}\n"
     ]
    }
   ],
   "source": [
    "#b.\tFind the elements that are not common.\n",
    "z=s1.difference(s2)\n",
    "print(z)"
   ]
  },
  {
   "cell_type": "code",
   "execution_count": 27,
   "metadata": {},
   "outputs": [
    {
     "name": "stdout",
     "output_type": "stream",
     "text": [
      "{1, 2, 3, 4, 5, 6, 8, 9, 10}\n"
     ]
    }
   ],
   "source": [
    "#Remove element 7 from both the Sets.\n",
    "a=s1.discard(7)\n",
    "print(s1)"
   ]
  },
  {
   "cell_type": "code",
   "execution_count": 28,
   "metadata": {},
   "outputs": [
    {
     "name": "stdout",
     "output_type": "stream",
     "text": [
      "{5, 6, 8, 9, 10, 11, 12, 13, 14, 15}\n"
     ]
    }
   ],
   "source": [
    "b=s2.discard(7)\n",
    "print(s2)"
   ]
  },
  {
   "cell_type": "raw",
   "metadata": {},
   "source": [
    "3.\tCreate a data dictionary of 5 states having state name as key and number of covid-19 cases as values.\n",
    "a.\tPrint only state names from the dictionary.\n",
    "b.\tUpdate another country and it’s covid-19 cases in the dictionary.\n"
   ]
  },
  {
   "cell_type": "code",
   "execution_count": 29,
   "metadata": {},
   "outputs": [
    {
     "name": "stdout",
     "output_type": "stream",
     "text": [
      "dict_keys(['Maharashtra', 'Kerala', 'Karnataka', 'Tamil Nadu', 'Andhra Pradesh'])\n"
     ]
    }
   ],
   "source": [
    "#Print only state names from the dictionary cases are lakh.\n",
    "dict={'Maharashtra':77.5,'Kerala':'63.5','Karnataka':34.5,'Tamil Nadu':33.8,'Andhra Pradesh':22.9}\n",
    "print(dict.keys())"
   ]
  },
  {
   "cell_type": "code",
   "execution_count": 42,
   "metadata": {},
   "outputs": [],
   "source": [
    "dict1={'Maharashtra':77.5,'Kerala':'63.5','Karnataka':34.5,'Tamil Nadu':33.8,'Andhra Pradesh':22.9}\n",
    "dict2={'California':85.6,'Texas':'63.1','Florida':55.9,'New York':48.1,'llinios':42.9}"
   ]
  },
  {
   "cell_type": "code",
   "execution_count": 44,
   "metadata": {},
   "outputs": [
    {
     "name": "stdout",
     "output_type": "stream",
     "text": [
      "{'Maharashtra': 77.5, 'Kerala': '63.5', 'Karnataka': 34.5, 'Tamil Nadu': 33.8, 'Andhra Pradesh': 22.9, 'California': 85.6, 'Texas': '63.1', 'Florida': 55.9, 'New York': 48.1, 'llinios': 42.9}\n"
     ]
    }
   ],
   "source": [
    "dict3=dict1.copy()\n",
    "for key,value  in dict2.items():\n",
    "    dict3[key]=value\n",
    "print(dict3)"
   ]
  },
  {
   "cell_type": "code",
   "execution_count": null,
   "metadata": {},
   "outputs": [],
   "source": []
  }
 ],
 "metadata": {
  "kernelspec": {
   "display_name": "Python 3",
   "language": "python",
   "name": "python3"
  },
  "language_info": {
   "codemirror_mode": {
    "name": "ipython",
    "version": 3
   },
   "file_extension": ".py",
   "mimetype": "text/x-python",
   "name": "python",
   "nbconvert_exporter": "python",
   "pygments_lexer": "ipython3",
   "version": "3.7.4"
  }
 },
 "nbformat": 4,
 "nbformat_minor": 2
}
