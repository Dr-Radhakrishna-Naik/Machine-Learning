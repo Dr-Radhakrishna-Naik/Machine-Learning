{
 "cells": [
  {
   "cell_type": "raw",
   "metadata": {},
   "source": [
    "MODULE-4 Conditional Statements\n",
    "Please write Python Programs for all the problems .\n",
    "1.\t Take a variable ‘age’ which is of positive value and check the following:\n",
    "a.\tIf age is less than 10, print “Children”.\n",
    "b.\tIf age is more than 60 , print ‘senior citizens’\n",
    "c.\t If it is in between 10 and 60, print ‘normal citizen’\n",
    "\n",
    "2.\tFind  the final train ticket price with the following conditions. \n",
    "a.\tIf male and sr.citizen, 70% of fare is applicable\n",
    "b.\tIf female and sr.citizen, 50% of fare is applicable.\n",
    "c.\tIf female and normal citizen, 70% of fare is applicable\n",
    "d.\tIf male and normal citizen, 100% of fare is applicable\n",
    "[Hint: First check for the gender, then calculate the fare based on age factor.. For both Male and Female ,consider them as sr.citizens if their age >=60]\n",
    "3.\tCheck whether the given number is positive and divisible by 5 or not.  \n"
   ]
  },
  {
   "cell_type": "code",
   "execution_count": null,
   "metadata": {},
   "outputs": [],
   "source": [
    "#Please write Python Programs for all the problems .\n",
    "#1.\t Take a variable ‘age’ which is of positive value and check the following:\n",
    "#a.\tIf age is less than 10, print “Children”.\n",
    "#b.\tIf age is more than 60 , print ‘senior citizens’\n",
    "#c.\t If it is in between 10 and 60, print ‘normal citizen’"
   ]
  },
  {
   "cell_type": "code",
   "execution_count": null,
   "metadata": {},
   "outputs": [],
   "source": [
    "age=int(input(\"enter your age:\"))\n",
    "\n",
    "if age<0:print(\"please enter positive value\")\n",
    "elif age<=10:print(\"Children\")\n",
    "elif age>=60:print(\"Senior citizen\")\n",
    "elif 10<age<60:print(\"normal citizen\")\n",
    "    \n",
    "    "
   ]
  },
  {
   "cell_type": "code",
   "execution_count": null,
   "metadata": {},
   "outputs": [],
   "source": [
    "gender=input(\"enter your gender:\")\n",
    "age=int(input(\"enter your age:\"))\n",
    "if gender==\"male\":\n",
    "    \n",
    "    if age<60:print(\"you will have to pay full fare\")\n",
    "    else:\n",
    "        print(\"you are eligible for 70% of fare\" )\n",
    "elif gender==\"female\":\n",
    "    \n",
    "    if age<60:print(\"you are eligible for 70% of fare\" )\n",
    "    else:print(\"50% of fare is applicable.\")\n",
    "    "
   ]
  },
  {
   "cell_type": "code",
   "execution_count": 7,
   "metadata": {},
   "outputs": [
    {
     "name": "stdout",
     "output_type": "stream",
     "text": [
      "enter the number:-23\n",
      "Enter the positive number\n"
     ]
    }
   ],
   "source": [
    "#Check whether the given number is positive and divisible by 5 or not\n",
    "a=int(input(\"enter the number:\"))\n",
    "if a<0:print(\"Enter the positive number\")\n",
    "elif(a%5==0):\n",
    "    print(\"The number is divisioble by 5\")\n",
    "else:print(\"The number is not divisible by 5\")\n",
    "    \n",
    "    "
   ]
  },
  {
   "cell_type": "code",
   "execution_count": null,
   "metadata": {},
   "outputs": [],
   "source": []
  },
  {
   "cell_type": "code",
   "execution_count": null,
   "metadata": {},
   "outputs": [],
   "source": []
  }
 ],
 "metadata": {
  "kernelspec": {
   "display_name": "Python 3",
   "language": "python",
   "name": "python3"
  },
  "language_info": {
   "codemirror_mode": {
    "name": "ipython",
    "version": 3
   },
   "file_extension": ".py",
   "mimetype": "text/x-python",
   "name": "python",
   "nbconvert_exporter": "python",
   "pygments_lexer": "ipython3",
   "version": "3.7.4"
  }
 },
 "nbformat": 4,
 "nbformat_minor": 2
}
